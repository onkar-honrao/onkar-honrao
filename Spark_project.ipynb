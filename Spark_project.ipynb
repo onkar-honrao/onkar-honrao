{
 "cells": [
  {
   "cell_type": "code",
   "execution_count": 1,
   "metadata": {},
   "outputs": [],
   "source": [
    "from pyspark.sql import SparkSession\n",
    "from pyspark.sql.functions import *\n"
   ]
  },
  {
   "cell_type": "code",
   "execution_count": 2,
   "metadata": {},
   "outputs": [],
   "source": [
    "#Create a Spark Application\n",
    "spark = SparkSession.builder.appName(\"groupbyagg\").getOrCreate()"
   ]
  },
  {
   "cell_type": "code",
   "execution_count": 3,
   "metadata": {},
   "outputs": [],
   "source": [
    "#Load the athlete_events.csv from Local System\n",
    "athlete_events = spark.read.csv('file:///home/hduser/demo_1/athlete_events.csv',sep=',',inferSchema=True,header=True)"
   ]
  },
  {
   "cell_type": "code",
   "execution_count": 4,
   "metadata": {},
   "outputs": [],
   "source": [
    "athlete_events.createOrReplaceTempView(\"athlete_events_view\")"
   ]
  },
  {
   "cell_type": "code",
   "execution_count": 6,
   "metadata": {},
   "outputs": [],
   "source": [
    "#Change your DB and table name as per your requirements...\n",
    "MySQL_URL = \"jdbc:mysql://localhost:3306/sqoop\"\n",
    "MySQL_driver = \"com.mysql.jdbc.Driver\"\n",
    "MySQL_table = \"athlete_events_Mysql\"\n",
    "user = \"root\"\n",
    "password = \"password\""
   ]
  },
  {
   "cell_type": "code",
   "execution_count": 7,
   "metadata": {},
   "outputs": [],
   "source": [
    "#Write a spark DF into a MySQL table.\n",
    "athlete_events.write.format('jdbc').options(url=MySQL_URL,driver=MySQL_driver,dbtable=MySQL_table,user=user,password=password).mode('overwrite').save()"
   ]
  },
  {
   "cell_type": "code",
   "execution_count": 8,
   "metadata": {},
   "outputs": [],
   "source": [
    "#Read the data from MySQL table and store it in a spark DF.\n",
    "read_from_MySQL = spark.read.format(\"jdbc\").option(\"url\", MySQL_URL).option(\"driver\", MySQL_driver).option(\"dbtable\", MySQL_table).option(\"user\", user).option(\"password\", password).load()"
   ]
  },
  {
   "cell_type": "code",
   "execution_count": 10,
   "metadata": {},
   "outputs": [
    {
     "name": "stdout",
     "output_type": "stream",
     "text": [
      "+------+--------------------+---+---+------+------+-------------+---+-----------+----+------+--------------+-------------+--------------------+------+\n",
      "|    ID|                Name|Sex|Age|Height|Weight|         Team|NOC|      Games|Year|Season|          City|        Sport|               Event| Medal|\n",
      "+------+--------------------+---+---+------+------+-------------+---+-----------+----+------+--------------+-------------+--------------------+------+\n",
      "|112595|Glenn Andrew Mark...|  M| 25|   178|    83|  New Zealand|NZL|2012 Summer|2012|Summer|        London|     Swimming|Swimming Men's 10...|    NA|\n",
      "| 37971| Adrian-Francisc Gal|  M| 21|    NA|    NA|      Romania|ROU|1992 Summer|1992|Summer|     Barcelona|   Gymnastics|Gymnastics Men's ...|    NA|\n",
      "| 37971| Adrian-Francisc Gal|  M| 21|    NA|    NA|      Romania|ROU|1992 Summer|1992|Summer|     Barcelona|   Gymnastics|Gymnastics Men's ...|    NA|\n",
      "|112595|Glenn Andrew Mark...|  M| 25|   178|    83|  New Zealand|NZL|2012 Summer|2012|Summer|        London|     Swimming|Swimming Men's 20...|    NA|\n",
      "| 37971| Adrian-Francisc Gal|  M| 21|    NA|    NA|      Romania|ROU|1992 Summer|1992|Summer|     Barcelona|   Gymnastics|Gymnastics Men's ...|    NA|\n",
      "|112595|Glenn Andrew Mark...|  M| 25|   178|    83|  New Zealand|NZL|2012 Summer|2012|Summer|        London|     Swimming|Swimming Men's 4 ...|    NA|\n",
      "| 37971| Adrian-Francisc Gal|  M| 21|    NA|    NA|      Romania|ROU|1992 Summer|1992|Summer|     Barcelona|   Gymnastics|Gymnastics Men's ...|    NA|\n",
      "|112595|Glenn Andrew Mark...|  M| 29|   178|    83|  New Zealand|NZL|2016 Summer|2016|Summer|Rio de Janeiro|     Swimming|Swimming Men's 10...|    NA|\n",
      "| 37971| Adrian-Francisc Gal|  M| 21|    NA|    NA|      Romania|ROU|1992 Summer|1992|Summer|     Barcelona|   Gymnastics|Gymnastics Men's ...|    NA|\n",
      "|112595|Glenn Andrew Mark...|  M| 29|   178|    83|  New Zealand|NZL|2016 Summer|2016|Summer|Rio de Janeiro|     Swimming|Swimming Men's 20...|    NA|\n",
      "| 37971| Adrian-Francisc Gal|  M| 21|    NA|    NA|      Romania|ROU|1992 Summer|1992|Summer|     Barcelona|   Gymnastics|Gymnastics Men's ...|    NA|\n",
      "|112596|        Zenon Snylyk|  M| 23|   170|    68|United States|USA|1956 Summer|1956|Summer|     Melbourne|     Football|Football Men's Fo...|    NA|\n",
      "| 37971| Adrian-Francisc Gal|  M| 21|    NA|    NA|      Romania|ROU|1992 Summer|1992|Summer|     Barcelona|   Gymnastics|Gymnastics Men's ...|    NA|\n",
      "|112597|\"Philippus Albert...|  M| 29|   188|    95| South Africa|RSA|2016 Summer|2016|Summer|Rio de Janeiro| Rugby Sevens|Rugby Sevens Men'...|Bronze|\n",
      "|112598|        Wayne Snyman|  M| 31|   177|    65| South Africa|RSA|2016 Summer|2016|Summer|Rio de Janeiro|    Athletics|Athletics Men's 2...|    NA|\n",
      "| 37972|\"Edwin Johannes \"...|  M| 42|   182|    72|  Netherlands|NED|2012 Summer|2012|Summer|        London|Equestrianism|Equestrianism Mix...|    NA|\n",
      "|112599|Nataliya Anatolye...|  F| 22|    NA|    NA|       Russia|RUS|1994 Winter|1994|Winter|   Lillehammer|     Biathlon|Biathlon Women's ...|    NA|\n",
      "| 37972|\"Edwin Johannes \"...|  M| 42|   182|    72|  Netherlands|NED|2012 Summer|2012|Summer|        London|Equestrianism|Equestrianism Mix...|Bronze|\n",
      "|112599|Nataliya Anatolye...|  F| 22|    NA|    NA|       Russia|RUS|1994 Winter|1994|Winter|   Lillehammer|     Biathlon|Biathlon Women's ...|  Gold|\n",
      "| 37972|\"Edwin Johannes \"...|  M| 46|   182|    72|  Netherlands|NED|2016 Summer|2016|Summer|Rio de Janeiro|Equestrianism|Equestrianism Mix...|    NA|\n",
      "+------+--------------------+---+---+------+------+-------------+---+-----------+----+------+--------------+-------------+--------------------+------+\n",
      "only showing top 20 rows\n",
      "\n"
     ]
    }
   ],
   "source": [
    "read_from_MySQL.show()"
   ]
  },
  {
   "cell_type": "code",
   "execution_count": null,
   "metadata": {},
   "outputs": [],
   "source": []
  }
 ],
 "metadata": {
  "kernelspec": {
   "display_name": "Python 3",
   "language": "python",
   "name": "python3"
  },
  "language_info": {
   "codemirror_mode": {
    "name": "ipython",
    "version": 3
   },
   "file_extension": ".py",
   "mimetype": "text/x-python",
   "name": "python",
   "nbconvert_exporter": "python",
   "pygments_lexer": "ipython3",
   "version": "3.4.3"
  }
 },
 "nbformat": 4,
 "nbformat_minor": 2
}
